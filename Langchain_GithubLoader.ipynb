{
  "nbformat": 4,
  "nbformat_minor": 0,
  "metadata": {
    "colab": {
      "provenance": [],
      "collapsed_sections": [
        "F5nx4Jw5Xt5F",
        "Y_QhYpvXXWUG"
      ],
      "include_colab_link": true
    },
    "kernelspec": {
      "name": "python3",
      "display_name": "Python 3"
    },
    "language_info": {
      "name": "python"
    }
  },
  "cells": [
    {
      "cell_type": "markdown",
      "metadata": {
        "id": "view-in-github",
        "colab_type": "text"
      },
      "source": [
        "<a href=\"https://colab.research.google.com/github/9mak/Langchain_GithubLoader/blob/main/Langchain_GithubLoader.ipynb\" target=\"_parent\"><img src=\"https://colab.research.google.com/assets/colab-badge.svg\" alt=\"Open In Colab\"/></a>"
      ]
    },
    {
      "cell_type": "markdown",
      "source": [
        "## 🧑‍💼README\n",
        "- author: [9mak](https://github.com/9mak/zenn)\n",
        "- created_at: 2024-10-19\n",
        "\n",
        "### 実行方法\n",
        "1. OpenAIのAPIキーを発行\n",
        "2. 「ランタイム > すべてのセルを実行」\n",
        "3. OpenAI APIキーをInputFormに入力してEnter\n",
        "\n",
        "### 注意\n",
        "- **OpenAIのAPI利用料金がかかります**\n",
        "　ちょっと使っただけでもお金かかるので本当に気を付けてください\n",
        "- 学習させたいリポジトリは`# GitHubリポジトリの設定`以下の値を変更してください\n",
        "- 質問は`# 質問の設定と回答の取得`以下の`query`の値を変更してください"
      ],
      "metadata": {
        "id": "UKEDbr8GWHKm"
      }
    },
    {
      "cell_type": "code",
      "source": [
        "import os\n",
        "from getpass import getpass\n",
        "\n",
        "# OpenAI APIキーの設定\n",
        "os.environ[\"OPENAI_API_KEY\"] = getpass(\"OpenAI APIキーを入力してください: \")"
      ],
      "metadata": {
        "collapsed": true,
        "id": "LibSMGphCKp2"
      },
      "execution_count": null,
      "outputs": []
    },
    {
      "cell_type": "code",
      "source": [
        "# 必要なパッケージのインストール\n",
        "!pip install langchain==0.3.4\n",
        "!pip install langchain-community==0.3.3\n",
        "!pip install langchain-openai==0.2.3\n",
        "!pip install openai==1.52.0\n",
        "!pip install chromadb==0.5.15\n",
        "!pip install GitPython==3.1.43"
      ],
      "metadata": {
        "collapsed": true,
        "id": "2qcdDAWw8FNR"
      },
      "execution_count": null,
      "outputs": []
    },
    {
      "cell_type": "code",
      "source": [
        "import os\n",
        "import shutil\n",
        "from langchain_community.vectorstores import Chroma\n",
        "from langchain_openai import OpenAIEmbeddings\n",
        "from langchain.indexes import VectorstoreIndexCreator\n",
        "from langchain_community.document_loaders import GitLoader\n",
        "from langchain.chains import RetrievalQA\n",
        "from langchain_openai import ChatOpenAI\n",
        "\n",
        "# OpenAI APIキーを環境変数から取得\n",
        "api_key = os.getenv(\"OPENAI_API_KEY\")\n",
        "if not api_key:\n",
        "    raise ValueError(\"OPENAI_API_KEY環境変数が設定されていません。\")\n",
        "\n",
        "# GitHubリポジトリの設定\n",
        "clone_url = \"https://github.com/9mak/9mak\"\n",
        "branch = \"main\"\n",
        "repo_path = \"./temp_repo/\"\n",
        "filter_ext = \".md\"\n",
        "\n",
        "try:\n",
        "    if os.path.exists(repo_path):\n",
        "      clone_url = None\n",
        "\n",
        "    # GitLoaderの設定\n",
        "    loader = GitLoader(\n",
        "        clone_url=clone_url,\n",
        "        branch=branch,\n",
        "        repo_path=repo_path,\n",
        "        file_filter=lambda file_path: file_path.endswith(filter_ext),\n",
        "    )\n",
        "\n",
        "    # インデックスの作成\n",
        "    index = VectorstoreIndexCreator(\n",
        "        vectorstore_cls=Chroma,\n",
        "        embedding=OpenAIEmbeddings(api_key=api_key),\n",
        "    ).from_loaders([loader])\n",
        "\n",
        "    print(\"インデックスの作成が完了しました。\")\n",
        "\n",
        "    # 質問の設定と回答の取得\n",
        "    query = \"GithubのProfileにどんなものが設定されていますか？\"\n",
        "    print(f\"質問: {query}\")\n",
        "\n",
        "    # RetrievalQAチェーンの作成\n",
        "    qa_chain = RetrievalQA.from_chain_type(\n",
        "        llm=ChatOpenAI(api_key=api_key),\n",
        "        retriever=index.vectorstore.as_retriever(),\n",
        "        return_source_documents=True\n",
        "    )\n",
        "\n",
        "    # 質問の実行\n",
        "    result = qa_chain.invoke({\"query\": query})\n",
        "    print(f\"回答: {result['result']}\")\n",
        "\n",
        "except Exception as e:\n",
        "    print(f\"エラーが発生しました: {e}\")"
      ],
      "metadata": {
        "collapsed": true,
        "id": "GVmX80Ph8oT-"
      },
      "execution_count": null,
      "outputs": []
    }
  ]
}